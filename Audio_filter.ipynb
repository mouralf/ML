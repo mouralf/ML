{
 "cells": [
  {
   "cell_type": "code",
   "execution_count": 1,
   "metadata": {},
   "outputs": [],
   "source": [
    "import numpy as np\n",
    "from scipy.io import wavfile\n",
    "from scipy import signal"
   ]
  },
  {
   "cell_type": "code",
   "execution_count": 2,
   "metadata": {},
   "outputs": [],
   "source": [
    "def apply_bandstop_filter(input_audio, sampling_rate, noise_frequency, width):\n",
    "    # Normalize the audio\n",
    "    normalized_audio = input_audio / (2 ** 15)\n",
    "\n",
    "    # Design a bandstop filter\n",
    "    nyquist_frequency = 0.5 * sampling_rate\n",
    "    lower_cutoff = (noise_frequency - width) / nyquist_frequency\n",
    "    upper_cutoff = (noise_frequency + width) / nyquist_frequency\n",
    "    b, a = signal.butter(4, [lower_cutoff, upper_cutoff], btype='bandstop')\n",
    "\n",
    "    # Apply the filter to the audio\n",
    "    filtered_audio = signal.lfilter(b, a, normalized_audio)\n",
    "\n",
    "    # Scale the audio back to the original range\n",
    "    filtered_audio = filtered_audio * (2 ** 15)\n",
    "\n",
    "    return filtered_audio.astype(np.int16)\n",
    "\n"
   ]
  },
  {
   "cell_type": "code",
   "execution_count": null,
   "metadata": {},
   "outputs": [],
   "source": [
    "# Load the audio file\n",
    "sampling_rate, audio_data = wavfile.read('input_audio.wav')\n",
    "\n",
    "# Specify the frequency and width of the noise to remove\n",
    "noise_frequency = 1000  # Modify this value as per your requirement\n",
    "width = 100  # Modify this value as per your requirement\n",
    "\n",
    "# Apply the bandstop filter\n",
    "filtered_audio = apply_bandstop_filter(audio_data, sampling_rate, noise_frequency, width)\n",
    "\n",
    "# Save the filtered audio to a new file\n",
    "wavfile.write('filtered_audio.wav', sampling_rate, filtered_audio)"
   ]
  }
 ],
 "metadata": {
  "kernelspec": {
   "display_name": "Python 3 (ipykernel)",
   "language": "python",
   "name": "python3"
  },
  "orig_nbformat": 4
 },
 "nbformat": 4,
 "nbformat_minor": 2
}
