{
 "cells": [
  {
   "cell_type": "code",
   "execution_count": 4,
   "metadata": {},
   "outputs": [],
   "source": [
    "import numpy as np\n",
    "from scipy.io import wavfile\n",
    "from scipy import signal\n",
    "import matplotlib.pyplot as plt"
   ]
  },
  {
   "cell_type": "code",
   "execution_count": 5,
   "metadata": {},
   "outputs": [],
   "source": [
    "def apply_bandstop_filter(input_audio, sampling_rate, noise_frequency, width):\n",
    "    # Normalize the audio\n",
    "    normalized_audio = input_audio / (2 ** 15)\n",
    "\n",
    "    # Design a bandstop filter\n",
    "    nyquist_frequency = 0.5 * sampling_rate\n",
    "    lower_cutoff = (noise_frequency - width) / nyquist_frequency\n",
    "    upper_cutoff = (noise_frequency + width) / nyquist_frequency\n",
    "    b, a = signal.butter(4, [lower_cutoff, upper_cutoff], btype='bandstop')\n",
    "\n",
    "    # Apply the filter to the audio\n",
    "    filtered_audio = signal.lfilter(b, a, normalized_audio)\n",
    "\n",
    "    # Scale the audio back to the original range\n",
    "    filtered_audio = filtered_audio * (2 ** 15)\n",
    "\n",
    "    return filtered_audio.astype(np.int16)\n"
   ]
  },
  {
   "cell_type": "code",
   "execution_count": 7,
   "metadata": {},
   "outputs": [
    {
     "ename": "FileNotFoundError",
     "evalue": "[Errno 2] No such file or directory: 'input_audio.wav'",
     "output_type": "error",
     "traceback": [
      "\u001b[1;31m---------------------------------------------------------------------------\u001b[0m",
      "\u001b[1;31mFileNotFoundError\u001b[0m                         Traceback (most recent call last)",
      "\u001b[1;32md:\\Documentos\\Mosquitoramento\\Repositórios\\ML\\Audio_spec.ipynb Célula 3\u001b[0m in \u001b[0;36m<cell line: 2>\u001b[1;34m()\u001b[0m\n\u001b[0;32m      <a href='vscode-notebook-cell:/d%3A/Documentos/Mosquitoramento/Reposit%C3%B3rios/ML/Audio_spec.ipynb#W2sZmlsZQ%3D%3D?line=0'>1</a>\u001b[0m \u001b[39m# Load the audio file\u001b[39;00m\n\u001b[1;32m----> <a href='vscode-notebook-cell:/d%3A/Documentos/Mosquitoramento/Reposit%C3%B3rios/ML/Audio_spec.ipynb#W2sZmlsZQ%3D%3D?line=1'>2</a>\u001b[0m sampling_rate, audio_data \u001b[39m=\u001b[39m wavfile\u001b[39m.\u001b[39;49mread(\u001b[39m'\u001b[39;49m\u001b[39minput_audio.wav\u001b[39;49m\u001b[39m'\u001b[39;49m)\n\u001b[0;32m      <a href='vscode-notebook-cell:/d%3A/Documentos/Mosquitoramento/Reposit%C3%B3rios/ML/Audio_spec.ipynb#W2sZmlsZQ%3D%3D?line=3'>4</a>\u001b[0m \u001b[39m# Compute the Fourier transform of the audio\u001b[39;00m\n\u001b[0;32m      <a href='vscode-notebook-cell:/d%3A/Documentos/Mosquitoramento/Reposit%C3%B3rios/ML/Audio_spec.ipynb#W2sZmlsZQ%3D%3D?line=4'>5</a>\u001b[0m frequencies, amplitudes \u001b[39m=\u001b[39m signal\u001b[39m.\u001b[39mfft\u001b[39m.\u001b[39mfftfreq(\u001b[39mlen\u001b[39m(audio_data), d\u001b[39m=\u001b[39m\u001b[39m1\u001b[39m\u001b[39m/\u001b[39msampling_rate), np\u001b[39m.\u001b[39mabs(signal\u001b[39m.\u001b[39mfft\u001b[39m.\u001b[39mfft(audio_data))\n",
      "File \u001b[1;32m~\\anaconda3\\lib\\site-packages\\scipy\\io\\wavfile.py:647\u001b[0m, in \u001b[0;36mread\u001b[1;34m(filename, mmap)\u001b[0m\n\u001b[0;32m    645\u001b[0m     mmap \u001b[39m=\u001b[39m \u001b[39mFalse\u001b[39;00m\n\u001b[0;32m    646\u001b[0m \u001b[39melse\u001b[39;00m:\n\u001b[1;32m--> 647\u001b[0m     fid \u001b[39m=\u001b[39m \u001b[39mopen\u001b[39;49m(filename, \u001b[39m'\u001b[39;49m\u001b[39mrb\u001b[39;49m\u001b[39m'\u001b[39;49m)\n\u001b[0;32m    649\u001b[0m \u001b[39mtry\u001b[39;00m:\n\u001b[0;32m    650\u001b[0m     file_size, is_big_endian \u001b[39m=\u001b[39m _read_riff_chunk(fid)\n",
      "\u001b[1;31mFileNotFoundError\u001b[0m: [Errno 2] No such file or directory: 'input_audio.wav'"
     ]
    }
   ],
   "source": [
    "# Load the audio file\n",
    "sampling_rate, audio_data = wavfile.read('input_audio.wav')\n",
    "\n",
    "# Compute the Fourier transform of the audio\n",
    "frequencies, amplitudes = signal.fft.fftfreq(len(audio_data), d=1/sampling_rate), np.abs(signal.fft.fft(audio_data))\n",
    "\n",
    "# Plot the audio spectrum\n",
    "plt.plot(frequencies, amplitudes)\n",
    "plt.xlabel('Frequency (Hz)')\n",
    "plt.ylabel('Amplitude')\n",
    "plt.title('Audio Spectrum')\n",
    "plt.grid(True)\n",
    "plt.show()\n",
    "\n",
    "# Prompt user to select the frequency to filter\n",
    "noise_frequency = float(input('Enter the frequency to filter: '))\n",
    "width = float(input('Enter the width of the filter (e.g., 100): '))\n",
    "\n",
    "# Apply the bandstop filter\n",
    "filtered_audio = apply_bandstop_filter(audio_data, sampling_rate, noise_frequency, width)\n",
    "\n",
    "# Save the filtered audio to a new file\n",
    "wavfile.write('filtered_audio.wav', sampling_rate, filtered_audio)"
   ]
  },
  {
   "cell_type": "code",
   "execution_count": null,
   "metadata": {},
   "outputs": [],
   "source": []
  }
 ],
 "metadata": {
  "kernelspec": {
   "display_name": "Python 3 (ipykernel)",
   "language": "python",
   "name": "python3"
  },
  "language_info": {
   "codemirror_mode": {
    "name": "ipython",
    "version": 3
   },
   "file_extension": ".py",
   "mimetype": "text/x-python",
   "name": "python",
   "nbconvert_exporter": "python",
   "pygments_lexer": "ipython3",
   "version": "3.9.12"
  },
  "orig_nbformat": 4
 },
 "nbformat": 4,
 "nbformat_minor": 2
}
